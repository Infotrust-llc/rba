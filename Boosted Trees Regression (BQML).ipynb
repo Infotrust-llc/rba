{
 "cells": [
  {
   "cell_type": "markdown",
   "metadata": {
    "id": "CGuCVErsXdCQ"
   },
   "source": [
    "# Boosted Trees Regression (BQML)"
   ]
  },
  {
   "cell_type": "code",
   "execution_count": null,
   "metadata": {
    "id": "CmVlcj3kOlt7"
   },
   "outputs": [],
   "source": [
    "###########################################################################\n",
    "#\n",
    "#  Copyright 2025 InfoTrust LLC\n",
    "#\n",
    "#  Licensed under the Apache License, Version 2.0 (the \"License\");\n",
    "#  you may not use this file except in compliance with the License.\n",
    "#  You may obtain a copy of the License at\n",
    "#\n",
    "#      https://www.apache.org/licenses/LICENSE-2.0\n",
    "#\n",
    "#  Unless required by applicable law or agreed to in writing, software\n",
    "#  distributed under the License is distributed on an \"AS IS\" BASIS,\n",
    "#  WITHOUT WARRANTIES OR CONDITIONS OF ANY KIND, either express or implied.\n",
    "#  See the License for the specific language governing permissions and\n",
    "#  limitations under the License.\n",
    "#\n",
    "# This solution, including any related sample code or data, is made available \n",
    "# on an “as is,” “as available,” and “with all faults” basis, solely for \n",
    "# illustrative purposes, and without warranty or representation of any kind. \n",
    "# This solution is experimental, unsupported and provided solely for your \n",
    "# convenience. Your use of it is subject to your agreements with InfoTrust, as \n",
    "# applicable, and may constitute a beta feature as defined under those \n",
    "# agreements.  To the extent that you make any data available to InfoTrust in \n",
    "# connection with your use of the solution, you represent and warrant that you \n",
    "# have all necessary and appropriate rights, consents and permissions to permit \n",
    "# InfoTrust to use and process that data.  By using any portion of this solution, \n",
    "# you acknowledge, assume and accept all risks, known and unknown, associated \n",
    "# with its usage, including with respect to your deployment of any portion of \n",
    "# this solution in your systems, or usage in connection with your business, \n",
    "# if at all.\n",
    "###########################################################################"
   ]
  },
  {
   "cell_type": "markdown",
   "metadata": {
    "id": "l19lClJob3IR"
   },
   "source": [
    "## 0) Dependencies"
   ]
  },
  {
   "cell_type": "code",
   "execution_count": null,
   "metadata": {
    "id": "UP5mRlhOEYk2"
   },
   "outputs": [],
   "source": [
    "################################################################################\n",
    "######################### CHANGE BQ PROJECT NAME BELOW #########################\n",
    "################################################################################\n",
    "\n",
    "project_name = '' #add proj name and dataset"
   ]
  },
  {
   "cell_type": "code",
   "execution_count": null,
   "metadata": {
    "id": "4aupXJjFcHkq"
   },
   "outputs": [],
   "source": [
    "# Google credentials authentication libraries\n",
    "from google.colab import auth\n",
    "auth.authenticate_user()\n",
    "\n",
    "# BigQuery Magics\n",
    "'''\n",
    "BigQuery magics are used to run BigQuery SQL queries in a python environment.\n",
    "These queries can also be run in the BigQuery UI\n",
    "'''\n",
    "\n",
    "from google.cloud import bigquery\n",
    "from google.cloud.bigquery import magics\n",
    "magics.context.project = project_name #update project name \n",
    "client = bigquery.Client(project=magics.context.project)\n",
    "%load_ext google.cloud.bigquery\n",
    "bigquery.USE_LEGACY_SQL = False\n",
    "\n",
    "\n",
    "# data processing libraries\n",
    "import numpy as np\n",
    "import pandas as pd\n",
    "\n",
    "\n",
    "# modeling and metrics\n",
    "from statsmodels.stats.stattools import durbin_watson\n",
    "import statsmodels.api as sm\n",
    "\n",
    "!pip install relativeImp\n",
    "from relativeImp import relativeImp\n",
    "!pip install shap\n",
    "import shap\n",
    "\n",
    "# visutalization\n",
    "import matplotlib.pyplot as plt\n",
    "import seaborn as sns\n",
    "import plotly.express as px\n",
    "\n",
    "from google.colab import files"
   ]
  },
  {
   "cell_type": "markdown",
   "metadata": {
    "id": "8N8-scWPc7fP"
   },
   "source": [
    "## 1) Import dataset"
   ]
  },
  {
   "cell_type": "markdown",
   "metadata": {
    "id": "uMBW9Yj3KYNQ"
   },
   "source": [
    "Import the data using the bigquery magics (%% command). \n",
    "Pulls all of the data from the cleaned data table and stores into a dataframe \"df\""
   ]
  },
  {
   "cell_type": "code",
   "execution_count": null,
   "metadata": {
    "id": "KtVgu2pdEeXJ"
   },
   "outputs": [],
   "source": [
    "################################################################################\n",
    "######################### CHANGE BQ PROJECT NAME BELOW #########################\n",
    "################################################################################"
   ]
  },
  {
   "cell_type": "code",
   "execution_count": null,
   "metadata": {
    "id": "c18LF5c8zovb"
   },
   "outputs": [],
   "source": [
    "%%bigquery df\n",
    "SELECT *\n",
    "FROM `.RBA_demo.cleaned_data`\n",
    "ORDER BY date; #update project name"
   ]
  },
  {
   "cell_type": "code",
   "execution_count": null,
   "metadata": {
    "id": "psVo1ZxHCyZ-"
   },
   "outputs": [],
   "source": [
    "df.columns"
   ]
  },
  {
   "cell_type": "code",
   "execution_count": null,
   "metadata": {
    "id": "yToddasyh-77"
   },
   "outputs": [],
   "source": [
    "df.describe()"
   ]
  },
  {
   "cell_type": "code",
   "execution_count": null,
   "metadata": {
    "id": "z4ALrx9owtGv"
   },
   "outputs": [],
   "source": [
    "df.head()"
   ]
  },
  {
   "cell_type": "markdown",
   "metadata": {
    "id": "eojj2vzU7bk7"
   },
   "source": [
    "Set KPI and date columns"
   ]
  },
  {
   "cell_type": "code",
   "execution_count": null,
   "metadata": {
    "id": "vmAz9wK07dBh"
   },
   "outputs": [],
   "source": [
    "kpi_col = \"y1\" #@param {type:\"string\"}\n",
    "date_col = \"date\" #@param {type:\"string\"}"
   ]
  },
  {
   "cell_type": "markdown",
   "metadata": {
    "id": "j2kOEcAxArc7"
   },
   "source": [
    "## 2) Run the RBA Model in BQML"
   ]
  },
  {
   "cell_type": "code",
   "execution_count": null,
   "metadata": {
    "id": "JTlB0wTXEgH2"
   },
   "outputs": [],
   "source": [
    "################################################################################\n",
    "######################### CHANGE BQ PROJECT NAME BELOW #########################\n",
    "################################################################################"
   ]
  },
  {
   "cell_type": "markdown",
   "metadata": {
    "id": "Ef_lA3mrP5Ds"
   },
   "source": [
    "This model also includes a train/test split of 90/10 using the \"data_split_method\", \"data_split_eval_fraction\", and \"data_split_col\" parameters.\n",
    "\n",
    "Since this data is time series, we use a sequential split with the date column as the reference point.\n",
    "\n",
    "We suggest using a train/test split to validate model performance, but for attribution results we suggest running the model on the full dataset."
   ]
  },
  {
   "cell_type": "code",
   "execution_count": null,
   "metadata": {
    "id": "9cp6xyg278H7"
   },
   "outputs": [],
   "source": [
    "%%bigquery\n",
    "CREATE OR REPLACE MODEL `.RBA_demo.RBA_model`  #update project name\n",
    "OPTIONS (model_type='boosted_tree_regressor',\n",
    "        #data_split_method = 'SEQ', #use these options for train/test splits\n",
    "        #data_split_eval_fraction = 0.1,\n",
    "        #data_split_col = 'date',\n",
    "        input_label_cols = ['y1'],\n",
    "        enable_global_explain = True)\n",
    "AS SELECT * EXCEPT(date)\n",
    "    FROM `.RBA_demo.cleaned_data`\n",
    "    #ORDER BY date; #update project name"
   ]
  },
  {
   "cell_type": "markdown",
   "metadata": {
    "id": "KtvXzEFDDeyp"
   },
   "source": [
    "### 2.1) Print the model evaluation metrics"
   ]
  },
  {
   "cell_type": "code",
   "execution_count": null,
   "metadata": {
    "id": "wJRETqIIEhrk"
   },
   "outputs": [],
   "source": [
    "################################################################################\n",
    "######################### CHANGE BQ PROJECT NAME BELOW #########################\n",
    "################################################################################"
   ]
  },
  {
   "cell_type": "markdown",
   "metadata": {
    "id": "lhOfZw5xOwdj"
   },
   "source": [
    "Call the model evaluation metrics from the model and save to a dataframe \"evaluation_metrics\".\n",
    "\n",
    "For linear regression models The ML.EVALUATE function returns: mean absolute error,mean squared erorr, mean squared log error, median absolute error, r-squared, and explained variance metrics."
   ]
  },
  {
   "cell_type": "code",
   "execution_count": null,
   "metadata": {
    "id": "0KPZXxNXzkl-"
   },
   "outputs": [],
   "source": [
    "%%bigquery evaluation_metrics\n",
    "SELECT *\n",
    "FROM ML.EVALUATE(MODEL `.RBA_demo.RBA_model`) #update project name"
   ]
  },
  {
   "cell_type": "code",
   "execution_count": null,
   "metadata": {
    "id": "u0lA4xMcQqi-"
   },
   "outputs": [],
   "source": [
    "evaluation_metrics"
   ]
  },
  {
   "cell_type": "markdown",
   "metadata": {
    "id": "rytclQ15eA1n"
   },
   "source": [
    "WARNING: make sure evaluation metrics displayed in Colab match the BQ UI."
   ]
  },
  {
   "cell_type": "markdown",
   "metadata": {
    "id": "s-WeCPeFKZ-x"
   },
   "source": [
    "### 2.2) Visualize model fit"
   ]
  },
  {
   "cell_type": "code",
   "execution_count": null,
   "metadata": {
    "id": "sF80oyU6KnSe"
   },
   "outputs": [],
   "source": [
    "################################################################################\n",
    "######################### CHANGE BQ PROJECT NAME BELOW #########################\n",
    "################################################################################"
   ]
  },
  {
   "cell_type": "markdown",
   "metadata": {
    "id": "EkHqYIKKKfbc"
   },
   "source": [
    "Select the predicted conversions (y1) of the model and actual conversions from the data (y1) using the ML.PREDICT function"
   ]
  },
  {
   "cell_type": "code",
   "execution_count": null,
   "metadata": {
    "id": "6tK38VliKZZb"
   },
   "outputs": [],
   "source": [
    "%%bigquery model_predictions\n",
    "SELECT\n",
    "  *\n",
    "FROM\n",
    "  ML.PREDICT(MODEL `.RBA_demo.RBA_model`, #update project name\n",
    "    (\n",
    "    SELECT\n",
    "        *\n",
    "    FROM\n",
    "      `.RBA_demo.cleaned_data`\n",
    "      ORDER BY date)); #update project name"
   ]
  },
  {
   "cell_type": "markdown",
   "metadata": {
    "id": "J460CbLiQI9P"
   },
   "source": [
    "Visualize the model fit by comparing predicted vs. actual data."
   ]
  },
  {
   "cell_type": "code",
   "execution_count": null,
   "metadata": {
    "id": "nASYBh7dKs7s"
   },
   "outputs": [],
   "source": [
    "results = pd.DataFrame()\n",
    "results['actual'] = df[kpi_col]\n",
    "results['predicted'] = model_predictions.predicted_y1"
   ]
  },
  {
   "cell_type": "code",
   "execution_count": null,
   "metadata": {
    "id": "j4xh1O83KtPV"
   },
   "outputs": [],
   "source": [
    "fig = px.line(results.sort_index())\n",
    "fig.show()"
   ]
  },
  {
   "cell_type": "markdown",
   "metadata": {
    "id": "_5mUPHgA5a1V"
   },
   "source": [
    "## 3) Calculate contribution of each digital media tactic on conversions"
   ]
  },
  {
   "cell_type": "markdown",
   "metadata": {
    "id": "mQhZOFBkuNdB"
   },
   "source": [
    "To determine feature attribution, we use BQML's Global Explainability methodology. ML.GLOBAL_EXPLAIN provides explanations for the entire model by aggregating the local explanations of the evaluation data"
   ]
  },
  {
   "cell_type": "code",
   "execution_count": null,
   "metadata": {
    "id": "-N0HayKd2Lfh"
   },
   "outputs": [],
   "source": [
    "%%bigquery feature_importance\n",
    "SELECT\n",
    "  *\n",
    "FROM\n",
    "  ML.GLOBAL_EXPLAIN(MODEL `RBA_demo.RBA_model`);"
   ]
  },
  {
   "cell_type": "code",
   "execution_count": null,
   "metadata": {
    "id": "YboNcHiAuQBF"
   },
   "outputs": [],
   "source": [
    "feature_importance"
   ]
  },
  {
   "cell_type": "code",
   "execution_count": null,
   "metadata": {
    "id": "PKxqTYoyuRxM"
   },
   "outputs": [],
   "source": [
    "sum_feature_imp = feature_importance.attribution.sum()\n",
    "scale_factor = 0.99 # pulled from BQ UI\n",
    "\n",
    "feature_importance['attribution %'] = feature_importance.attribution / (sum_feature_imp / scale_factor)\n",
    "feature_importance.sort_values(by = 'attribution %', ascending = False)"
   ]
  },
  {
   "cell_type": "code",
   "execution_count": null,
   "metadata": {
    "id": "Bo137kTquUwO"
   },
   "outputs": [],
   "source": [
    "feature_importance['attribution %'].sum()"
   ]
  },
  {
   "cell_type": "markdown",
   "metadata": {
    "id": "nu2dFciNaj_F"
   },
   "source": [
    "## 4) Export Final Results"
   ]
  },
  {
   "cell_type": "code",
   "execution_count": null,
   "metadata": {
    "id": "CLlaUtFdalvB"
   },
   "outputs": [],
   "source": [
    "final_results_df = feature_importance[['feature','attribution %']]\n",
    "final_results_df.to_csv('rba_final_output.csv', encoding = 'utf-8-sig') \n",
    "files.download('rba_final_output.csv')"
   ]
  }
 ],
 "metadata": {
  "colab": {
   "collapsed_sections": [],
   "name": "Boosted Trees Regression (BQML).ipynb",
   "provenance": [
    {
     "file_id": "1rTRXzEp5Y68lKPRF0B24D6UfUZF5BIV-",
     "timestamp": 1626453655786
    },
    {
     "file_id": "1a9EJrqES9Vxyp9yOvevTKqE_vqFO66AI",
     "timestamp": 1626368566392
    }
   ]
  },
  "kernelspec": {
   "display_name": "Python 3",
   "name": "python3"
  },
  "language_info": {
   "name": "python"
  }
 },
 "nbformat": 4,
 "nbformat_minor": 0
}
